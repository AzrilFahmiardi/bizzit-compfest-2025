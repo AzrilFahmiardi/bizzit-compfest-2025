{
 "cells": [
  {
   "cell_type": "code",
   "execution_count": 1,
   "id": "f11e10e4",
   "metadata": {},
   "outputs": [],
   "source": [
    "import pandas as pd"
   ]
  },
  {
   "cell_type": "code",
   "execution_count": 2,
   "id": "db4bb4ce",
   "metadata": {},
   "outputs": [],
   "source": [
    "import os\n",
    "import glob"
   ]
  },
  {
   "cell_type": "code",
   "execution_count": 3,
   "id": "a4ca6c1f",
   "metadata": {},
   "outputs": [
    {
     "name": "stdout",
     "output_type": "stream",
     "text": [
      "File yang akan digabungkan: 9 file\n",
      "- transaksi\\transaksi_batch_1.csv\n",
      "- transaksi\\transaksi_batch_2.csv\n",
      "- transaksi\\transaksi_batch_3.csv\n",
      "- transaksi\\transaksi_batch_4.csv\n",
      "- transaksi\\transaksi_batch_5.csv\n",
      "- transaksi\\transaksi_batch_6.csv\n",
      "- transaksi\\transaksi_batch_7.csv\n",
      "- transaksi\\transaksi_batch_8.csv\n",
      "- transaksi\\transaksi_batch_9.csv\n",
      "Membaca transaksi\\transaksi_batch_1.csv...\n",
      "  - Jumlah baris: 66,039\n",
      "Membaca transaksi\\transaksi_batch_2.csv...\n",
      "  - Jumlah baris: 69,726\n",
      "Membaca transaksi\\transaksi_batch_3.csv...\n",
      "  - Jumlah baris: 64,593\n",
      "Membaca transaksi\\transaksi_batch_4.csv...\n",
      "  - Jumlah baris: 69,077\n",
      "Membaca transaksi\\transaksi_batch_5.csv...\n",
      "  - Jumlah baris: 74,083\n",
      "Membaca transaksi\\transaksi_batch_6.csv...\n",
      "  - Jumlah baris: 70,576\n",
      "Membaca transaksi\\transaksi_batch_7.csv...\n",
      "  - Jumlah baris: 68,977\n",
      "Membaca transaksi\\transaksi_batch_8.csv...\n",
      "  - Jumlah baris: 72,922\n",
      "Membaca transaksi\\transaksi_batch_9.csv...\n",
      "  - Jumlah baris: 47,212\n",
      "\n",
      "Menggabungkan semua data transaksi...\n",
      "Total data transaksi setelah digabungkan: 603,205 baris\n",
      "Kolom: ['id_produk', 'minggu', 'current_event', 'id_toko', 'harga_promosi', 'diskon', 'diskon_margin', 'hari_jual', 'kedaluwarsa', 'tanggal_transaksi']\n",
      "\n",
      "Info singkat data gabungan:\n",
      "<class 'pandas.core.frame.DataFrame'>\n",
      "RangeIndex: 603205 entries, 0 to 603204\n",
      "Data columns (total 10 columns):\n",
      " #   Column             Non-Null Count   Dtype  \n",
      "---  ------             --------------   -----  \n",
      " 0   id_produk          603205 non-null  object \n",
      " 1   minggu             603205 non-null  int64  \n",
      " 2   current_event      337512 non-null  object \n",
      " 3   id_toko            603205 non-null  int64  \n",
      " 4   harga_promosi      603205 non-null  int64  \n",
      " 5   diskon             603205 non-null  float64\n",
      " 6   diskon_margin      603205 non-null  float64\n",
      " 7   hari_jual          603205 non-null  int64  \n",
      " 8   kedaluwarsa        603205 non-null  int64  \n",
      " 9   tanggal_transaksi  603205 non-null  object \n",
      "dtypes: float64(2), int64(5), object(3)\n",
      "memory usage: 46.0+ MB\n",
      "None\n"
     ]
    }
   ],
   "source": [
    "# Menggabungkan semua data transaksi dari 9 batch\n",
    "transaksi_folder = \"transaksi\"\n",
    "transaksi_files = glob.glob(os.path.join(transaksi_folder, \"transaksi_batch_*.csv\"))\n",
    "\n",
    "print(f\"File yang akan digabungkan: {len(transaksi_files)} file\")\n",
    "for file in sorted(transaksi_files):\n",
    "    print(f\"- {file}\")\n",
    "\n",
    "# Membaca dan menggabungkan semua file transaksi\n",
    "transaksi_dataframes = []\n",
    "\n",
    "for file in sorted(transaksi_files):\n",
    "    print(f\"Membaca {file}...\")\n",
    "    df = pd.read_csv(file)\n",
    "    print(f\"  - Jumlah baris: {len(df):,}\")\n",
    "    transaksi_dataframes.append(df)\n",
    "\n",
    "# Menggabungkan semua dataframe\n",
    "print(\"\\nMenggabungkan semua data transaksi...\")\n",
    "transaksi_combined = pd.concat(transaksi_dataframes, ignore_index=True)\n",
    "\n",
    "print(f\"Total data transaksi setelah digabungkan: {len(transaksi_combined):,} baris\")\n",
    "print(f\"Kolom: {list(transaksi_combined.columns)}\")\n",
    "print(f\"\\nInfo singkat data gabungan:\")\n",
    "print(transaksi_combined.info())"
   ]
  },
  {
   "cell_type": "code",
   "execution_count": 4,
   "id": "1f8f458d",
   "metadata": {},
   "outputs": [
    {
     "name": "stdout",
     "output_type": "stream",
     "text": [
      "Sample 5 baris pertama:\n",
      "  id_produk  minggu      current_event  id_toko  harga_promosi  diskon  \\\n",
      "0  P0008266       1  Promo Akhir Pekan        1          12900  0.1428   \n",
      "1  P0004740       1  Promo Akhir Pekan        1           3200  0.1807   \n",
      "2  P0000272       1  Promo Akhir Pekan        1           4300  0.1157   \n",
      "3  P0007290       1  Promo Akhir Pekan        1           8500  0.0945   \n",
      "4  P0000907       1  Promo Akhir Pekan        1           6200  0.1436   \n",
      "\n",
      "   diskon_margin  hari_jual  kedaluwarsa tanggal_transaksi  \n",
      "0         0.0512         63          302        2023-01-01  \n",
      "1        -0.0522         54          311        2023-01-01  \n",
      "2         0.1219         65          300        2023-01-01  \n",
      "3         0.0980        128          237        2023-01-01  \n",
      "4         0.0816         53          312        2023-01-01  \n",
      "\n",
      "Sample 5 baris terakhir:\n",
      "       id_produk  minggu      current_event  id_toko  harga_promosi  diskon  \\\n",
      "603200  P0078970     113  Promo Akhir Pekan        7          10300  0.1068   \n",
      "603201  P0076252     113  Promo Akhir Pekan        7          17500  0.1396   \n",
      "603202  P0077017     113  Promo Akhir Pekan        7           9400  0.1413   \n",
      "603203  P0077651     113  Promo Akhir Pekan        7           9600  0.0792   \n",
      "603204  P0077373     113  Promo Akhir Pekan        7          12800  0.1659   \n",
      "\n",
      "        diskon_margin  hari_jual  kedaluwarsa tanggal_transaksi  \n",
      "603200         0.0801        178          187        2025-02-28  \n",
      "603201         0.0294        143          222        2025-02-28  \n",
      "603202         0.0333        143          222        2025-02-28  \n",
      "603203         0.1244         23          342        2025-02-28  \n",
      "603204         0.0252         52          313        2025-02-28  \n",
      "\n",
      "Jumlah data duplikat: 8\n",
      "\n",
      "Statistik deskriptif:\n",
      "              minggu        id_toko  harga_promosi         diskon  \\\n",
      "count  603205.000000  603205.000000  603205.000000  603205.000000   \n",
      "mean       57.794529       2.981784   15602.262746       0.076440   \n",
      "std        32.606879       1.464906   12089.342640       0.103958   \n",
      "min         1.000000       1.000000     950.000000       0.000000   \n",
      "25%        29.000000       2.000000    6400.000000       0.000000   \n",
      "50%        59.000000       3.000000   12000.000000       0.000000   \n",
      "75%        86.000000       4.000000   21500.000000       0.135100   \n",
      "max       113.000000       7.000000   77700.000000       0.500000   \n",
      "\n",
      "       diskon_margin      hari_jual    kedaluwarsa  \n",
      "count  603205.000000  603205.000000  603205.000000  \n",
      "mean        0.100328      93.307554     260.911504  \n",
      "std         0.138842      55.343329     101.139223  \n",
      "min        -0.740800       1.000000       0.000000  \n",
      "25%         0.055100      47.000000     216.000000  \n",
      "50%         0.142300      93.000000     266.000000  \n",
      "75%         0.185700     138.000000     318.000000  \n",
      "max         0.244200     300.000000     525.000000  \n"
     ]
    }
   ],
   "source": [
    "# Menampilkan sample data gabungan\n",
    "print(\"Sample 5 baris pertama:\")\n",
    "print(transaksi_combined.head())\n",
    "\n",
    "print(\"\\nSample 5 baris terakhir:\")\n",
    "print(transaksi_combined.tail())\n",
    "\n",
    "# Mengecek duplikasi data (jika ada)\n",
    "duplicates = transaksi_combined.duplicated().sum()\n",
    "print(f\"\\nJumlah data duplikat: {duplicates}\")\n",
    "\n",
    "# Statistik deskriptif singkat\n",
    "print(\"\\nStatistik deskriptif:\")\n",
    "print(transaksi_combined.describe())"
   ]
  },
  {
   "cell_type": "code",
   "execution_count": 5,
   "id": "ce7f0287",
   "metadata": {},
   "outputs": [
    {
     "name": "stdout",
     "output_type": "stream",
     "text": [
      "Menyimpan data gabungan ke transaksi_combined.csv...\n",
      "Data berhasil disimpan dengan 603,205 baris\n",
      "Ukuran file: 34.63 MB\n"
     ]
    }
   ],
   "source": [
    "# Menyimpan data gabungan ke file CSV baru\n",
    "output_file = \"transaksi_combined.csv\"\n",
    "print(f\"Menyimpan data gabungan ke {output_file}...\")\n",
    "transaksi_combined.to_csv(output_file, index=False)\n",
    "print(f\"Data berhasil disimpan dengan {len(transaksi_combined):,} baris\")\n",
    "\n",
    "# Verifikasi file yang disimpan\n",
    "if os.path.exists(output_file):\n",
    "    file_size = os.path.getsize(output_file) / (1024*1024)  # Size in MB\n",
    "    print(f\"Ukuran file: {file_size:.2f} MB\")\n",
    "else:\n",
    "    print(\"Error: File tidak berhasil disimpan\")"
   ]
  }
 ],
 "metadata": {
  "kernelspec": {
   "display_name": "data-sci-env",
   "language": "python",
   "name": "python3"
  },
  "language_info": {
   "codemirror_mode": {
    "name": "ipython",
    "version": 3
   },
   "file_extension": ".py",
   "mimetype": "text/x-python",
   "name": "python",
   "nbconvert_exporter": "python",
   "pygments_lexer": "ipython3",
   "version": "3.11.13"
  }
 },
 "nbformat": 4,
 "nbformat_minor": 5
}
